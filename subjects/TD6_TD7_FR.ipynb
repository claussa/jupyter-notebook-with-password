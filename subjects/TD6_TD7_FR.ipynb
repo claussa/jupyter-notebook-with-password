{
 "cells": [
  {
   "cell_type": "markdown",
   "metadata": {
    "toc": true
   },
   "source": [
    "<h1>Invisibilité thermique<span class=\"tocSkip\"></span></h1>\n",
    "<div class=\"toc\"><ul class=\"toc-item\"><li><span><a href=\"#Présentation-du-problème\" data-toc-modified-id=\"Présentation-du-problème-1\"><span class=\"toc-item-num\">1&nbsp;&nbsp;</span>Présentation du problème</a></span></li><li><span><a href=\"#Adimensionnement-et-formulation-variationnelle\" data-toc-modified-id=\"Adimensionnement-et-formulation-variationnelle-2\"><span class=\"toc-item-num\">2&nbsp;&nbsp;</span>Adimensionnement et formulation variationnelle</a></span></li><li><span><a href=\"#Démarche\" data-toc-modified-id=\"Démarche-3\"><span class=\"toc-item-num\">3&nbsp;&nbsp;</span>Démarche</a></span></li><li><span><a href=\"#1D-:-Simulation-du-problème-stationnaire\" data-toc-modified-id=\"1D-:-Simulation-du-problème-stationnaire-4\"><span class=\"toc-item-num\">4&nbsp;&nbsp;</span>1D : Simulation du problème stationnaire</a></span><ul class=\"toc-item\"><li><span><a href=\"#Programme-1-:-Résolution-en-dimension-1\" data-toc-modified-id=\"Programme-1-:-Résolution-en-dimension-1-4.1\"><span class=\"toc-item-num\">4.1&nbsp;&nbsp;</span>Programme 1 : Résolution en dimension 1</a></span></li><li><span><a href=\"#Ordre-numérique-de-la-méthode-$\\mathbb{P}1$.\" data-toc-modified-id=\"Ordre-numérique-de-la-méthode-$\\mathbb{P}1$.-4.2\"><span class=\"toc-item-num\">4.2&nbsp;&nbsp;</span>Ordre numérique de la méthode $\\mathbb{P}1$.</a></span></li><li><span><a href=\"#Programme-2-:-Résolution-du-même-problème-en-dimension-2\" data-toc-modified-id=\"Programme-2-:-Résolution-du-même-problème-en-dimension-2-4.3\"><span class=\"toc-item-num\">4.3&nbsp;&nbsp;</span>Programme 2 : Résolution du même problème en dimension 2</a></span></li></ul></li><li><span><a href=\"#2D-:-Premiers-calculs-de-flux-intégrés\" data-toc-modified-id=\"2D-:-Premiers-calculs-de-flux-intégrés-5\"><span class=\"toc-item-num\">5&nbsp;&nbsp;</span>2D : Premiers calculs de flux intégrés</a></span></li><li><span><a href=\"#2D-:-Simulation-du-problème-stationnaire-avec-conductivité-constante-et-flux-non-constant\" data-toc-modified-id=\"2D-:-Simulation-du-problème-stationnaire-avec-conductivité-constante-et-flux-non-constant-6\"><span class=\"toc-item-num\">6&nbsp;&nbsp;</span>2D : Simulation du problème stationnaire avec conductivité constante et flux non constant</a></span></li><li><span><a href=\"#2D-:-Simulation-du-problème-stationnaire-en-domaine-troué-fixe\" data-toc-modified-id=\"2D-:-Simulation-du-problème-stationnaire-en-domaine-troué-fixe-7\"><span class=\"toc-item-num\">7&nbsp;&nbsp;</span>2D : Simulation du problème stationnaire en domaine troué fixe</a></span><ul class=\"toc-item\"><li><span><a href=\"#Adaptation-de-la-géométrie\" data-toc-modified-id=\"Adaptation-de-la-géométrie-7.1\"><span class=\"toc-item-num\">7.1&nbsp;&nbsp;</span>Adaptation de la géométrie</a></span></li><li><span><a href=\"#Adaptation-de-la-conductivité\" data-toc-modified-id=\"Adaptation-de-la-conductivité-7.2\"><span class=\"toc-item-num\">7.2&nbsp;&nbsp;</span>Adaptation de la conductivité</a></span></li></ul></li><li><span><a href=\"#Simulation-du-problème-stationnaire-en-domaine-troué-aléatoirement\" data-toc-modified-id=\"Simulation-du-problème-stationnaire-en-domaine-troué-aléatoirement-8\"><span class=\"toc-item-num\">8&nbsp;&nbsp;</span>Simulation du problème stationnaire en domaine troué aléatoirement</a></span></li><li><span><a href=\"#Conclusion\" data-toc-modified-id=\"Conclusion-9\"><span class=\"toc-item-num\">9&nbsp;&nbsp;</span>Conclusion</a></span></li><li><span><a href=\"#Bibliographie\" data-toc-modified-id=\"Bibliographie-10\"><span class=\"toc-item-num\">10&nbsp;&nbsp;</span>Bibliographie</a></span><ul class=\"toc-item\"><li><span><a href=\"#FEniCS\" data-toc-modified-id=\"FEniCS-10.1\"><span class=\"toc-item-num\">10.1&nbsp;&nbsp;</span>FEniCS</a></span></li><li><span><a href=\"#Markdown\" data-toc-modified-id=\"Markdown-10.2\"><span class=\"toc-item-num\">10.2&nbsp;&nbsp;</span>Markdown</a></span></li></ul></li></ul></div>"
   ]
  },
  {
   "cell_type": "markdown",
   "metadata": {},
   "source": [
    "**Préliminaire** Les questions \"sur papier\" sont notées **Q** et les questions de programmation **P**."
   ]
  },
  {
   "cell_type": "markdown",
   "metadata": {},
   "source": [
    "# Présentation du problème"
   ]
  },
  {
   "cell_type": "markdown",
   "metadata": {},
   "source": [
    "![caption](images/domaine1.png)"
   ]
  },
  {
   "cell_type": "markdown",
   "metadata": {},
   "source": [
    "On va s'intéresser à l'équation de la chaleur sur un rectangle $\\Omega=ABCD$ avec conditions aux limites mêlées et de terme source nul :\n",
    "\n",
    "\n",
    "\\begin{equation}\\label{eq1:evol}\n",
    " \\tag{P} \\begin{cases}\n",
    "   \\rho c_{p} \\partial_t \\theta-div(\\kappa\\ grad(\\theta))=0\\mbox{ dans  }\\Omega,\\\\\n",
    "\\theta(0,\\cdot)=\\theta_{0},\\\\(CL)\n",
    "\\begin{cases}\n",
    "\\kappa \\partial_{n}\\theta=0 \\qquad \\mbox{ sur }[AB]\\\\\n",
    " \\theta=\\theta^{0}\\qquad \\mbox{ sur }[BC]\\\\\n",
    "\\kappa_n\\partial_{n}\\theta=0 \\qquad \\mbox{ sur }[CD]\\\\\n",
    "\\kappa_n\\partial_{n}\\theta=\\psi\\qquad \\mbox{ sur }[DA],\\\\\n",
    "\\end{cases}\n",
    "  \\end{cases}\n",
    "\\end{equation}\n",
    "\n",
    "\n",
    "où les valeurs numériques sont\n",
    "\n",
    "\n",
    "\\begin{equation*}\n",
    "\\begin{cases}\n",
    "X=d(A,B)=d(C,D)=20\\,m\\\\\n",
    "Y=d(B,C)=d(D,A)=10^{-2}\\,m\\\\\n",
    "\\rho=4000\\,kg.m^{-3}\\\\\n",
    "c_{p}=1000\\,J.kg^{-1}.K^{-1}\\\\\n",
    "\\theta^{0}=278\\,K\\\\\n",
    "\\theta_{0}\\mbox{ une fonction de moyenne }275\\,K\\\\\n",
    "\\psi=\n",
    "\\psi_{0}=100 \\, W.m^{-2}\\\\\n",
    "\\end{cases}\n",
    "\\end{equation*}\n",
    "\n",
    "et $\\kappa:(x,y)\\mapsto diag(\\kappa_x(x,y),\\kappa_y(x,y))$, avec $\\kappa_x$ et $\\kappa_y$ deux fonctions données. On note $\\kappa_n$ la diffusivité sur le bord par analogie avec la notation de la dérivée normale (on complètera la figure en explicitant la normale extérieure et $\\kappa_n$ sur le bord).\n",
    "\n",
    "Par ailleurs, l'équation d'évolution permet de décrire un régime\n",
    "transitoire vers un état stationnaire solution de \n",
    "\n",
    "\n",
    "\\begin{equation}\\tag{Pinf}\n",
    "  \\begin{cases}\n",
    "    -div(\\kappa\\ grad(\\theta))=0\\mbox{ dans  }\\Omega,\\\\\n",
    "(CL)  \\end{cases}\n",
    "\\end{equation}"
   ]
  },
  {
   "cell_type": "markdown",
   "metadata": {},
   "source": [
    "Le but de ce TP est de calculer numériquement la température sur le bord $[DA]$\n",
    "et le flux de chaleur sur le bord $[BC]$ afin de comprendre comment valider de\n",
    "manière croisée les simulations numériques et les solutions exactes en dimension 1, puis de calculer efficacement la température dans un domaine troué.\n",
    "\n",
    "Dans un premier temps, on validera le modèle sur un cas de diffusion unidimensionnel, en $x$, en supposant que $\\psi$ est constante égale à $\\psi_{0}$, $\\kappa=k I_2$ avec $k$ constante égale à $1\\, W.m^{-1}.K^{-1}$ et que la température sur le bord $[BC]$ vaut uniformément $\\theta_0$. "
   ]
  },
  {
   "cell_type": "markdown",
   "metadata": {},
   "source": [
    "**Q.1** Justifier cette affirmation, dans ce cas où $\\kappa$, $\\psi$ et $\\theta_{0}$ sont des fonctions constantes : pourquoi peut-on considérer que la solution $\\theta$ ne dépendra pas de $y$ ? "
   ]
  },
  {
   "cell_type": "markdown",
   "metadata": {},
   "source": [
    "**Solution** \n",
    "\n"
   ]
  },
  {
   "cell_type": "markdown",
   "metadata": {},
   "source": [
    "**Q.2** Réécrire le problème (P) en une dimension d'espace ($x$). On le numérotera (P1)."
   ]
  },
  {
   "cell_type": "markdown",
   "metadata": {},
   "source": [
    "**Solution** \n",
    " "
   ]
  },
  {
   "cell_type": "markdown",
   "metadata": {},
   "source": [
    "**Q.3** Écrire le système stationnaire associé à (P1) et le résoudre explicitement. On notera $\\theta^{\\infty}$ la solution. "
   ]
  },
  {
   "cell_type": "markdown",
   "metadata": {},
   "source": [
    "**Solution** \n"
   ]
  },
  {
   "cell_type": "markdown",
   "metadata": {},
   "source": [
    "#  Adimensionnement et formulation variationnelle"
   ]
  },
  {
   "cell_type": "markdown",
   "metadata": {},
   "source": [
    "**Q.1** Mettre (P) sous forme adimensionnée par rapport à un temps d'observation $T_{obs}$, une longueur d'observation en $x$, $X_{obs}$, une longueur d'observation en $y$, $Y_{obs}$ et une température $\\theta_{obs}$. \n",
    "\n",
    "On aura ainsi une équation d'évolution sous la forme\n",
    "\n",
    "\\begin{equation}\\label{eq1:evol_adim}\n",
    "\\tag{Padim}\\begin{cases}\n",
    "\\partial_{t^{*}}\\theta^{*}-\\partial_{x^*}(\\kappa_{x}^{*}\\partial_{x^{*}}\\theta^{*})-\\partial_{y^*}(\\kappa_{y}^{*}\\partial_{y^{*}}\\theta^{*})=0\\mbox{ dans }\\Omega^{*}\\\\\n",
    "(CL)^{*}\n",
    "\\begin{cases}\n",
    "\\kappa^*_n\\partial_{n^{*}}\\theta^{*}=0 \\qquad \\mbox{ sur }[A^{*}B^{*}]\\\\\n",
    "\\theta^{*}=\\theta_0/\\theta_{obs} \\qquad \\mbox{ sur }[B^{*}C^{*}]\\\\\n",
    "\\kappa^*_n\\partial_{n^{*}}\\theta^{*}=0 \\qquad \\mbox{ sur }[C^{*}D^{*}]\\\\\n",
    "\\kappa^*_n\\partial_{n^{*}}\\theta^{*}=\\psi^{*} \\qquad \\mbox{ sur }[D^{*}A^{*}],\\\\\n",
    "\\end{cases}\n",
    "\\end{cases}\n",
    "\\end{equation}\n",
    "\n",
    "où les quantités étoilées sont adimensionnées et $\\kappa_x^*$, $\\kappa_{y}^{*}$ et $\\kappa_{n}^{*}$ sont les constantes de diffusivité thermiques adimensionnées dans chaque direction $x$, $y$ et normale au bord."
   ]
  },
  {
   "cell_type": "markdown",
   "metadata": {},
   "source": [
    "**Solution** "
   ]
  },
  {
   "cell_type": "markdown",
   "metadata": {},
   "source": [
    "Par souci de simplification, on omet les ${}^{*}$ et ${}_{obs}$ dans la suite. On suppose\n",
    "désormais que $\\psi\\in L^2([DA])$. Dans la suite, on considère que $\\theta_0$ est une fonction constante et vaut $\\theta_{obs}$."
   ]
  },
  {
   "cell_type": "markdown",
   "metadata": {},
   "source": [
    "**Q.2** Écrire le problème stationnaire associé à (Padim). On le nommera (Padiminf)."
   ]
  },
  {
   "cell_type": "markdown",
   "metadata": {},
   "source": [
    "**Solution** "
   ]
  },
  {
   "cell_type": "markdown",
   "metadata": {},
   "source": [
    "**Q.3** Ecrire la formulation variationnelle de (Padiminf). La solution est-elle unique ?"
   ]
  },
  {
   "cell_type": "markdown",
   "metadata": {},
   "source": [
    "**Solution** "
   ]
  },
  {
   "cell_type": "markdown",
   "metadata": {},
   "source": [
    "#  Démarche"
   ]
  },
  {
   "cell_type": "markdown",
   "metadata": {},
   "source": [
    "On veut approcher la solution d'un problème d'équations aux dérivées\n",
    "partielles, dont on sait qu'il est bien posé grâce à l'analyse, à l'aide d'une\n",
    "méthode éléments finis. \n",
    "\n",
    "\"Approcher\"  peut signifier plusieurs choses :\n",
    "on veut visualiser, déterminer l'ordre numérique, etc. \n",
    "\n",
    "La démarche est la suivante (les étapes sont numérotées Ci pour étape i du code) : \n",
    "- C0 : on charge les modules nécessaires ;\n",
    "- C1 : on définit les constantes ;\n",
    "- C2 : on part d'une géométrie en définissant les bords par des courbes paramétrées : les bords extérieurs étant parcourus **dans le sens trigonométrique** et les bords intérieurs **dans le sens horaire** ;\n",
    "- C3 : on fabrique un maillage ;\n",
    "- C4 : on définit l'espace dans lequel on va chercher la solution approchée ;\n",
    "- C5 : on prend en compte les conditions au bord ;\n",
    "- C6 : on définit la formulation variationnelle ;\n",
    "- C7 : on résout le système ;\n",
    "- C8: on exploite la solution.\n",
    "\n",
    "Dans la suite sont fournis des programmes. On les analysera précisément par\n",
    "rapport aux étapes décrites ci-dessus. "
   ]
  },
  {
   "cell_type": "markdown",
   "metadata": {},
   "source": [
    "#  1D : Simulation du problème stationnaire"
   ]
  },
  {
   "cell_type": "markdown",
   "metadata": {},
   "source": [
    "On détaille dans la première partie de cette section un premier programme permettant de résoudre un problème approché en dimension 1, puis l'objectif est que vous arriviez à écrire vous-même un code de résolution."
   ]
  },
  {
   "cell_type": "markdown",
   "metadata": {},
   "source": [
    "## Programme 1 : Résolution en dimension 1"
   ]
  },
  {
   "cell_type": "markdown",
   "metadata": {},
   "source": [
    "<p style=\"color:red;\">     C0 : Chargement des modules </p>"
   ]
  },
  {
   "cell_type": "code",
   "execution_count": 1,
   "metadata": {},
   "outputs": [],
   "source": [
    "from dolfin import *"
   ]
  },
  {
   "cell_type": "code",
   "execution_count": 2,
   "metadata": {},
   "outputs": [],
   "source": [
    "from fenics import *\n",
    "import matplotlib.pyplot as plt"
   ]
  },
  {
   "cell_type": "markdown",
   "metadata": {},
   "source": [
    "<p style=\"color:red;\"> C1 : Définition des constantes </p>"
   ]
  },
  {
   "cell_type": "markdown",
   "metadata": {},
   "source": [
    "On fixe les constantes, le flux à gauche $\\psi$ et la précision $tol$."
   ]
  },
  {
   "cell_type": "code",
   "execution_count": 3,
   "metadata": {},
   "outputs": [],
   "source": [
    "kappaadim=1\n",
    "psiadim=1\n",
    "tol = 1E-14"
   ]
  },
  {
   "cell_type": "markdown",
   "metadata": {},
   "source": [
    "<p style=\"color:red;\"> C2 : Définition de la géométrie </p>  "
   ]
  },
  {
   "cell_type": "markdown",
   "metadata": {},
   "source": [
    "Il s'agit d'un segment de longueur adimensionnée 1."
   ]
  },
  {
   "cell_type": "code",
   "execution_count": 4,
   "metadata": {},
   "outputs": [],
   "source": [
    "X=1"
   ]
  },
  {
   "cell_type": "markdown",
   "metadata": {},
   "source": [
    "<p style=\"color:red;\"> C3 : Fabrication du maillage </p>"
   ]
  },
  {
   "cell_type": "code",
   "execution_count": 5,
   "metadata": {},
   "outputs": [
    {
     "name": "stdout",
     "output_type": "stream",
     "text": [
      "Plotting a UnitIntervalmesh1\n"
     ]
    },
    {
     "data": {
      "text/plain": [
       "[<matplotlib.lines.Line2D at 0x7f9d8f674208>]"
      ]
     },
     "execution_count": 5,
     "metadata": {},
     "output_type": "execute_result"
    },
    {
     "data": {
      "image/png": "[encoded data removed]",
      "text/plain": [
       "<Figure size 432x288 with 1 Axes>"
      ]
     },
     "metadata": {
      "needs_background": "light"
     },
     "output_type": "display_data"
    }
   ],
   "source": [
    "nx1 = 10\n",
    "\n",
    "mesh1 = UnitIntervalMesh(nx1)\n",
    "\n",
    "print(\"Plotting a UnitIntervalmesh1\")\n",
    "plt.figure(1)\n",
    "plot(mesh1, title=\"Maillage du segment\")"
   ]
  },
  {
   "cell_type": "markdown",
   "metadata": {},
   "source": [
    "<p style=\"color:red;\"> C4 : Définition de l'espace Hh dans lequel on va chercher la solution </p>"
   ]
  },
  {
   "cell_type": "code",
   "execution_count": 6,
   "metadata": {},
   "outputs": [],
   "source": [
    "Hh1 = FunctionSpace(mesh1, 'P', 1)"
   ]
  },
  {
   "cell_type": "markdown",
   "metadata": {},
   "source": [
    "<p style=\"color:red;\"> C5 : Prise en compte des conditions au bord </p>"
   ]
  },
  {
   "cell_type": "markdown",
   "metadata": {},
   "source": [
    "Les conditions au bord de Dirichlet sont à spécifier grâce à la commande FEniCS DirichletBC. Comme vu en cours, les conditions au bord de Neumann nécessitent de définir une mesure specifique sur la portion de bord concernée. Il faut donc définir les parties de bord comme des objets."
   ]
  },
  {
   "cell_type": "code",
   "execution_count": 7,
   "metadata": {},
   "outputs": [],
   "source": [
    "# Définition des bords d'intérêt, de la condition de Dirichlet \n",
    "# et de la mesure nécessaire pour définir l1 (Neumann non homogène sur le bord gauche)\n",
    "\n",
    "def RightEdge1(x, on_boundary):\n",
    "    return on_boundary and (abs(x[0] - 1) < tol) \n",
    "\n",
    "bcD1 = DirichletBC(Hh1, Constant(2.0), RightEdge1)\n",
    "\n",
    "class LeftEdge1(SubDomain):\n",
    "    def inside(self, x, on_boundary):\n",
    "        return on_boundary and (abs(x[0] - 0) < tol)\n",
    "\n",
    "bcN1 = LeftEdge1()\n",
    "\n",
    "boundaries1 = MeshFunction(\"size_t\", mesh1, mesh1.topology().dim()-1, 0)\n",
    "\n",
    "bcN1.mark(boundaries1,0) # on donne le label 0 au bord x=0 dans boundaries1\n",
    "\n",
    "ds1 = Measure(\"ds\", domain=mesh1, subdomain_data=boundaries1) "
   ]
  },
  {
   "cell_type": "markdown",
   "metadata": {},
   "source": [
    "<p style=\"color:red;\"> C6 : Codage de la formulation variationnelle </p>"
   ]
  },
  {
   "cell_type": "code",
   "execution_count": 8,
   "metadata": {},
   "outputs": [],
   "source": [
    "u1 = TrialFunction(Hh1)\n",
    "v1 = TestFunction(Hh1)\n",
    "l1 = psiadim*v1*ds1(0) #psiadim*v1(0) car ds1(0) est la mesure ds1 en x=0 (label 0)\n",
    "a1 = kappaadim*dot(grad(u1), grad(v1))*dx"
   ]
  },
  {
   "cell_type": "markdown",
   "metadata": {},
   "source": [
    "<p style=\"color:red;\"> C7 : Résolution de l'approximation variationnelle (assemblage de la matrice de rigidité et résolution du système linéaire) </p>"
   ]
  },
  {
   "cell_type": "code",
   "execution_count": 9,
   "metadata": {},
   "outputs": [],
   "source": [
    "u1 = Function(Hh1)\n",
    "solve(a1 == l1, u1, bcD1)"
   ]
  },
  {
   "cell_type": "markdown",
   "metadata": {},
   "source": [
    "<p style=\"color:red;\"> C8 : Tracé de la solution </p>"
   ]
  },
  {
   "cell_type": "code",
   "execution_count": 10,
   "metadata": {
    "scrolled": true
   },
   "outputs": [
    {
     "data": {
      "text/plain": [
       "Text(0.5, 0, 'x')"
      ]
     },
     "execution_count": 10,
     "metadata": {},
     "output_type": "execute_result"
    },
    {
     "data": {
      "image/png": "[encoded data removed]",
      "text/plain": [
       "<Figure size 432x288 with 1 Axes>"
      ]
     },
     "metadata": {
      "needs_background": "light"
     },
     "output_type": "display_data"
    }
   ],
   "source": [
    "plt.figure(2)\n",
    "plot(u1,title='Solution numérique u1')\n",
    "plt.xlabel('x')"
   ]
  },
  {
   "cell_type": "markdown",
   "metadata": {},
   "source": [
    "**Q.1** Quelle quantité visualise-t-on ? "
   ]
  },
  {
   "cell_type": "markdown",
   "metadata": {},
   "source": [
    "**Solution** "
   ]
  },
  {
   "cell_type": "markdown",
   "metadata": {},
   "source": [
    "**Q.2** Quel est le problème approché résolu ?"
   ]
  },
  {
   "cell_type": "markdown",
   "metadata": {},
   "source": [
    "**Solution** "
   ]
  },
  {
   "cell_type": "markdown",
   "metadata": {},
   "source": [
    "On peut obtenir la matrice de rigidité en utilisant la commande *assemble*, qui donne la matrice de rigidité sur tous les noeuds du maillage **quelles que soient les conditions au bord**. Attention, pour tenir compte de la condition au bord de Dirichlet, il faut l'appliquer en utilisant *condition_au_bord.apply*. "
   ]
  },
  {
   "cell_type": "code",
   "execution_count": 11,
   "metadata": {
    "scrolled": true
   },
   "outputs": [
    {
     "name": "stdout",
     "output_type": "stream",
     "text": [
      "[[ 10. -10.   0.   0.   0.   0.   0.   0.   0.   0.   0.]\n",
      " [-10.  20. -10.   0.   0.   0.   0.   0.   0.   0.   0.]\n",
      " [  0. -10.  20. -10.   0.   0.   0.   0.   0.   0.   0.]\n",
      " [  0.   0. -10.  20. -10.   0.   0.   0.   0.   0.   0.]\n",
      " [  0.   0.   0. -10.  20. -10.   0.   0.   0.   0.   0.]\n",
      " [  0.   0.   0.   0. -10.  20. -10.   0.   0.   0.   0.]\n",
      " [  0.   0.   0.   0.   0. -10.  20. -10.   0.   0.   0.]\n",
      " [  0.   0.   0.   0.   0.   0. -10.  20. -10.   0.   0.]\n",
      " [  0.   0.   0.   0.   0.   0.   0. -10.  20. -10.   0.]\n",
      " [  0.   0.   0.   0.   0.   0.   0.   0. -10.  20. -10.]\n",
      " [  0.   0.   0.   0.   0.   0.   0.   0.   0. -10.  10.]]\n",
      "[1. 0. 0. 0. 0. 0. 0. 0. 0. 0. 1.]\n",
      "[[  1.   0.   0.   0.   0.   0.   0.   0.   0.   0.   0.]\n",
      " [-10.  20. -10.   0.   0.   0.   0.   0.   0.   0.   0.]\n",
      " [  0. -10.  20. -10.   0.   0.   0.   0.   0.   0.   0.]\n",
      " [  0.   0. -10.  20. -10.   0.   0.   0.   0.   0.   0.]\n",
      " [  0.   0.   0. -10.  20. -10.   0.   0.   0.   0.   0.]\n",
      " [  0.   0.   0.   0. -10.  20. -10.   0.   0.   0.   0.]\n",
      " [  0.   0.   0.   0.   0. -10.  20. -10.   0.   0.   0.]\n",
      " [  0.   0.   0.   0.   0.   0. -10.  20. -10.   0.   0.]\n",
      " [  0.   0.   0.   0.   0.   0.   0. -10.  20. -10.   0.]\n",
      " [  0.   0.   0.   0.   0.   0.   0.   0. -10.  20. -10.]\n",
      " [  0.   0.   0.   0.   0.   0.   0.   0.   0. -10.  10.]]\n",
      "[2. 0. 0. 0. 0. 0. 0. 0. 0. 0. 1.]\n",
      "[[0. ]\n",
      " [0.1]\n",
      " [0.2]\n",
      " [0.3]\n",
      " [0.4]\n",
      " [0.5]\n",
      " [0.6]\n",
      " [0.7]\n",
      " [0.8]\n",
      " [0.9]\n",
      " [1. ]]\n"
     ]
    }
   ],
   "source": [
    "A1=assemble(a1)\n",
    "b1=assemble(l1)\n",
    "print(A1.array())\n",
    "print(b1.get_local())\n",
    "bcD1.apply(A1,b1)\n",
    "print(A1.array())\n",
    "print(b1.get_local())\n",
    "coordinates =  mesh1.coordinates()\n",
    "print(coordinates)"
   ]
  },
  {
   "cell_type": "markdown",
   "metadata": {},
   "source": [
    "## Ordre numérique de la méthode $\\mathbb{P}1$. "
   ]
  },
  {
   "cell_type": "markdown",
   "metadata": {},
   "source": [
    "**Q.1** Comment valider numériquement l'approximation variationnelle, sachant le résultat de la  Q.6 de la partie 1 ?"
   ]
  },
  {
   "cell_type": "markdown",
   "metadata": {},
   "source": [
    "**Solution** "
   ]
  },
  {
   "cell_type": "markdown",
   "metadata": {},
   "source": [
    "**P.1** Tracer la différence entre la solution du problème approché et la fonction thetainf = Expression(\"2-x[0]\", degree=2). \n",
    "\n",
    "Mots-clés FEniCS : *Expression*"
   ]
  },
  {
   "cell_type": "code",
   "execution_count": 12,
   "metadata": {},
   "outputs": [],
   "source": [
    "# %load P_4_2_1.py\n"
   ]
  },
  {
   "cell_type": "markdown",
   "metadata": {},
   "source": [
    "**P.2** Calculer le logarithme en base 10 de la norme $L^2$ et la norme $H^1$ de l'erreur.\n",
    "\n",
    "Mots-clés FEniCS : *norm*"
   ]
  },
  {
   "cell_type": "code",
   "execution_count": 13,
   "metadata": {},
   "outputs": [],
   "source": [
    "# %load P_4_2_2.py\n"
   ]
  },
  {
   "cell_type": "markdown",
   "metadata": {},
   "source": [
    "**Q.2** Expliquer ce résultat."
   ]
  },
  {
   "cell_type": "markdown",
   "metadata": {},
   "source": [
    "**Solution** "
   ]
  },
  {
   "cell_type": "markdown",
   "metadata": {},
   "source": [
    "**Remarque** Il est en général plus prudent de considérer l'erreur relative norm(u-thetainf,'H1')/norm(thetainf,'H1'). Ici, norm(thetainf,'H1') étant d'ordre 1, c'est inutile."
   ]
  },
  {
   "cell_type": "markdown",
   "metadata": {},
   "source": [
    "**P.3** On suppose jusqu'à la fin de cette section seulement que la source  $S$ est non nulle. On suppose dans cette question seulement que $S$ est uniforme égale à 1 sur tout le domaine. La solution exacte est alors $\\theta_{ex}:x\\mapsto \\theta^\\infty(x) + (1-x^2)/2$. Coder la résolution par la méthode $\\mathbb{P}1$ sous forme d'une fonction appelée error_p1 prenant en entrée le nombre de mailles nx et rendant en sortie la norme H1 de l'erreur commise.\n",
    "\n",
    "Mots-clés FEniCS : *SpatialCoordinate*, *conditional* (langage UFL)"
   ]
  },
  {
   "cell_type": "code",
   "execution_count": 14,
   "metadata": {},
   "outputs": [],
   "source": [
    "# %load P_4_2_3.py\n"
   ]
  },
  {
   "cell_type": "markdown",
   "metadata": {},
   "source": [
    "**P.4** Calculer les erreurs commises pour nx = 8, 16, 32, 64, 128, 256, 512 et 1024. Tracer la courbe des résultats en mettant en abscisse le logarithme en base 10 de nx."
   ]
  },
  {
   "cell_type": "code",
   "execution_count": 15,
   "metadata": {},
   "outputs": [],
   "source": [
    "# %load P_4_2_4.py\n"
   ]
  },
  {
   "cell_type": "markdown",
   "metadata": {},
   "source": [
    "**P.5** Donner une estimation de l'ordre numérique de la méthode pour ce problème."
   ]
  },
  {
   "cell_type": "code",
   "execution_count": 16,
   "metadata": {},
   "outputs": [],
   "source": [
    "# %load P_4_2_5.py\n"
   ]
  },
  {
   "cell_type": "markdown",
   "metadata": {},
   "source": [
    "**P.6** Modifier le programme écrit en P.3 pour inclure les sources & solutions exactes $S:x\\mapsto -\\pi\\sin(\\pi x)$ & $\\theta_{ex}:x\\mapsto  1-\\sin(\\pi x)/\\pi$  et $S:x\\mapsto 8 H(x-1/2)$ & $\\theta_{ex}:x\\mapsto  -x+3-1_{x>1/2}(2x-1)^2$. Conclure."
   ]
  },
  {
   "cell_type": "markdown",
   "metadata": {},
   "source": [
    "**Solution** "
   ]
  },
  {
   "cell_type": "markdown",
   "metadata": {},
   "source": [
    "## Programme 2 : Résolution du même problème en dimension 2"
   ]
  },
  {
   "cell_type": "markdown",
   "metadata": {},
   "source": [
    "On revient au problème initial (Padiminf) où la source est nulle. On va maintenant définir la géométrie complète du domaine initial en deux dimensions d'espace.\n",
    "\n",
    "Voici le code en dimension 2."
   ]
  },
  {
   "cell_type": "code",
   "execution_count": 17,
   "metadata": {},
   "outputs": [
    {
     "data": {
      "image/png": "[encoded data removed]",
      "text/plain": [
       "<Figure size 432x288 with 1 Axes>"
      ]
     },
     "metadata": {
      "needs_background": "light"
     },
     "output_type": "display_data"
    }
   ],
   "source": [
    "#C0\n",
    "#from dolfin import *\n",
    "#from __future__ import print_function\n",
    "#from fenics import *\n",
    "#import matplotlib.pyplot as plt\n",
    "\n",
    "#C1\n",
    "#kappaadim=1\n",
    "#psiadim=1\n",
    "#tol = 1E-14\n",
    "\n",
    "#C2\n",
    "#X=1\n",
    "Y=1\n",
    "\n",
    "#C3\n",
    "nx2=5\n",
    "ny2=5 \n",
    "\n",
    "mesh2 = RectangleMesh(Point(0.0, 0.0), Point(X, Y), nx2, ny2, diagonal=\"left\") \n",
    "\n",
    "plt.figure(1)\n",
    "plot(mesh2, title=\"Maillage du rectangle\")\n",
    "\n",
    "#C4\n",
    "Hh2 = FunctionSpace(mesh2, 'P', 1)\n",
    "\n",
    "#C5\n",
    "\n",
    "def RightEdge2(x, on_boundary):\n",
    "    return on_boundary and (abs(x[0] - 1) < tol) \n",
    "    \n",
    "reD2 = DirichletBC(Hh2, Constant(1.0), RightEdge2)\n",
    "\n",
    "class LeftEdge2(SubDomain):\n",
    "    def inside(self, x, on_boundary):\n",
    "        return on_boundary and (abs(x[0] - 0) < tol)\n",
    "    \n",
    "leN2 = LeftEdge2()\n",
    "\n",
    "boundaries2 = MeshFunction(\"size_t\", mesh2, mesh2.topology().dim()-1, 0)\n",
    "\n",
    "leN2.mark(boundaries2, 1)\n",
    "\n",
    "ds2 = Measure(\"ds\", domain=mesh2, subdomain_data=boundaries2)"
   ]
  },
  {
   "cell_type": "markdown",
   "metadata": {},
   "source": [
    "**P.1** Ecrire la formulation variationnelle du problème (Padiminf) (étape C6) et tracer la solution."
   ]
  },
  {
   "cell_type": "code",
   "execution_count": 18,
   "metadata": {},
   "outputs": [],
   "source": [
    "# %load P_4_3_1.py\n"
   ]
  },
  {
   "cell_type": "markdown",
   "metadata": {},
   "source": [
    "**P.2** Résoudre l'approximation variationnelle (étape C7)."
   ]
  },
  {
   "cell_type": "code",
   "execution_count": 19,
   "metadata": {},
   "outputs": [],
   "source": [
    "# %load P_4_3_2.py\n"
   ]
  },
  {
   "cell_type": "markdown",
   "metadata": {},
   "source": [
    "**P.3** Tracer la solution (étape C8)."
   ]
  },
  {
   "cell_type": "code",
   "execution_count": 20,
   "metadata": {},
   "outputs": [],
   "source": [
    "# %load P_4_3_3.py\n"
   ]
  },
  {
   "cell_type": "markdown",
   "metadata": {},
   "source": [
    "**Q.1** Comment jouer sur le maillage pour se convaincre que la solution ne dépend pas de $y$ ?"
   ]
  },
  {
   "cell_type": "markdown",
   "metadata": {},
   "source": [
    "**Solution** "
   ]
  },
  {
   "cell_type": "markdown",
   "metadata": {},
   "source": [
    "**P.4** Comment implémenter la méthode $\\mathbb{P}2$ ?"
   ]
  },
  {
   "cell_type": "markdown",
   "metadata": {},
   "source": [
    "**Solution** "
   ]
  },
  {
   "cell_type": "markdown",
   "metadata": {},
   "source": [
    "**P.5** La solution vous paraît-elle visuellement correcte (on pourra tracer le gradient de $u$) ?\n",
    "\n",
    "Mots-clés FEniCS : *grad*"
   ]
  },
  {
   "cell_type": "code",
   "execution_count": 21,
   "metadata": {},
   "outputs": [],
   "source": [
    "# %load P_4_3_5.py\n"
   ]
  },
  {
   "cell_type": "markdown",
   "metadata": {},
   "source": [
    "# 2D : Premiers calculs de flux intégrés"
   ]
  },
  {
   "cell_type": "markdown",
   "metadata": {},
   "source": [
    "Le flux intégré sur un bord est l'intégrale sur ce bord de la dérivée normale de la température."
   ]
  },
  {
   "cell_type": "markdown",
   "metadata": {},
   "source": [
    "**Q.1** Quelle est la valeur du flux intégré en $x=0$ ? "
   ]
  },
  {
   "cell_type": "markdown",
   "metadata": {},
   "source": [
    "**Solution** "
   ]
  },
  {
   "cell_type": "markdown",
   "metadata": {},
   "source": [
    "**Q.2** Quelle est la valeur du flux intégré en $x=X$ ? "
   ]
  },
  {
   "cell_type": "markdown",
   "metadata": {},
   "source": [
    "**Solution** "
   ]
  },
  {
   "cell_type": "markdown",
   "metadata": {},
   "source": [
    "**P.1** Ecrire un code permettant de calculer le flux intégré sur le segment [DA], que l'on appellera influx, et le flux intégré sur le segment [BC], que l'on appellera outflux. On calculera la valeur absolue de la différence.\n",
    "\n",
    "Mots-clés FEniCS : *assemble*, *mark*"
   ]
  },
  {
   "cell_type": "code",
   "execution_count": 22,
   "metadata": {},
   "outputs": [],
   "source": [
    "# %load P_5_1.py\n"
   ]
  },
  {
   "cell_type": "markdown",
   "metadata": {},
   "source": [
    "**Q.3** Conclure."
   ]
  },
  {
   "cell_type": "markdown",
   "metadata": {},
   "source": [
    "**Solution**"
   ]
  },
  {
   "cell_type": "markdown",
   "metadata": {},
   "source": [
    "**Remarque** On a besoin de définir le bord droit *RightEdge* comme une classe pour pouvoir l'étiqueter ensuite comme sous-domaine et intégrer sur ce bord."
   ]
  },

  {
   "cell_type": "markdown",
   "metadata": {},
   "source": [
    "#  2D : Simulation du problème stationnaire avec conductivité constante et flux non constant"
   ]
  },
  {
   "cell_type": "markdown",
   "metadata": {},
   "source": [
    "On introduit une fonction flux $\\psi:y\\mapsto \\psi_{adim}y$."
   ]
  },
  {
   "cell_type": "markdown",
   "metadata": {},
   "source": [
    "**P.1** Introduire la fonction $\\psi$ dans le programme 2. On tracera le maillage et la solution comme des sous-figures.\n",
    "\n",
    "Mots-clés matplotlib : *subplot*, *colorbar* "
   ]
  },
  {
   "cell_type": "code",
   "execution_count": null,
   "metadata": {},
   "outputs": [],
   "source": [
    "# %load P_6_1.py\n"
   ]
  },
  {
   "cell_type": "markdown",
   "metadata": {},
   "source": [
    "**P.2** Estimer l'ordre numérique de la méthode $\\mathbb{P}1$ et de la méthode $\\mathbb{P}2$ pour ce problème. Comme la solution explicite n'est pas connue, on aura choisi nx4 et ny4 grands, par exemple égaux à 200, et on comparera les solutions calculées pour des nx et ny plus petits à la solution obtenue sur le maillage fin mesh4. \n",
    "\n",
    "Mots-clés FEniCS : *linregress*"
   ]
  },
  {
   "cell_type": "code",
   "execution_count": null,
   "metadata": {},
   "outputs": [],
   "source": [
    "# %load P_6_2.py\n"
   ]
  },
  {
   "cell_type": "markdown",
   "metadata": {},
   "source": [
    "**P.3** Donner le flux thermique sur la face $x=0$ et sur la face $x=X$. Ce résultat était-il prévisible ?"
   ]
  },
  {
   "cell_type": "code",
   "execution_count": null,
   "metadata": {},
   "outputs": [],
   "source": [
    "# %load P_6_3.py\n"
   ]
  },
  {
   "cell_type": "markdown",
   "metadata": {},
   "source": [
    "**Solution** "
   ]
  },
  {
   "cell_type": "markdown",
   "metadata": {},
   "source": [
    "**Q.3** Conclure."
   ]
  },
  {
   "cell_type": "markdown",
   "metadata": {},
   "source": [
    "**Solution** "
   ]
  },
  {
   "cell_type": "markdown",
   "metadata": {},
   "source": [
    "#  2D : Simulation du problème stationnaire en domaine troué fixe"
   ]
  },
  {
   "cell_type": "markdown",
   "metadata": {},
   "source": [
    "![caption](images/domaine2.png)"
   ]
  },
  {
   "cell_type": "markdown",
   "metadata": {},
   "source": [
    "## Adaptation de la géométrie"
   ]
  },
  {
   "cell_type": "markdown",
   "metadata": {},
   "source": [
    "Dans un premier temps, on va considérer que le domaine $\\Omega'$ comporte un trou central circulaire **isolé** de rayon $r$ sur le bord duquel on met donc des conditions de Neumann homogènes. \n"
   ]
  },
  {
   "cell_type": "markdown",
   "metadata": {},
   "source": [
    "Afin de pouvoir comparer sur des maillages de même taille de cellule, on fixe maintenant la taille du domaine, la position et la taille du trou, ainsi que le nombre de mailles par côté et l'ordre de la méthode. "
   ]
  },
  {
   "cell_type": "code",
   "execution_count": 24,
   "metadata": {},
   "outputs": [],
   "source": [
    "xc=X/2\n",
    "yc=Y/2\n",
    "r=0.1\n",
    "\n",
    "nx5=15\n",
    "ny5=15\n",
    "ordre = 1"
   ]
  },
  {
   "cell_type": "markdown",
   "metadata": {},
   "source": [
    "**P.1** Définir le nouveau domaine et le mailler.\n",
    "\n",
    "Mots-clés FEniCS : *Rectangle(Point(.,.),Point(.,.))*, *Circle(Point(.,.),.)*, *generate_mesh*"
   ]
  },
  {
   "cell_type": "code",
   "execution_count": 25,
   "metadata": {},
   "outputs": [],
   "source": [
    "# %load P_7_1_1.py\n"
   ]
  },
  {
   "cell_type": "markdown",
   "metadata": {},
   "source": [
    "**P.2** Résoudre le problème sur le nouveau domaine."
   ]
  },
  {
   "cell_type": "code",
   "execution_count": 26,
   "metadata": {},
   "outputs": [],
   "source": [
    "# %load P_7_1_2.py\n"
   ]
  },
  {
   "cell_type": "markdown",
   "metadata": {},
   "source": [
    "**P.3** Comparer les flux intégrés sur la face $x=0$ et sur la face $x=L$ obtenus avec des éléments finis $\\mathbb{P}1$ puis $\\mathbb{P}2$ et commenter le résultat."
   ]
  },
  {
   "cell_type": "code",
   "execution_count": 27,
   "metadata": {},
   "outputs": [],
   "source": [
    "# %load P_7_1_3.py\n"
   ]
  },
  {
   "cell_type": "markdown",
   "metadata": {},
   "source": [
    "## Adaptation de la conductivité"
   ]
  },
  {
   "cell_type": "markdown",
   "metadata": {},
   "source": [
    "On considère à présent le domaine sans trou $\\Omega$ et on introduit une conductivité variable ${\\kappa_{var}:(x,y)\\mapsto (\\kappa-10^{-8})\\mathbf{1}_{\\{(x,y)\\in\\Omega \\,:\\, (x-X/2)^{2}+(y-Y/2)^{2}>r^{2}\\}}}+10^{-8}$."
   ]
  },
  {
   "cell_type": "markdown",
   "metadata": {},
   "source": [
    "**P.1** Coder la deuxième approche.\n",
    "\n",
    "Mots-clés FEniCS : *SpatialCoordinate*, *conditional*"
   ]
  },
  {
   "cell_type": "code",
   "execution_count": 28,
   "metadata": {},
   "outputs": [],
   "source": [
    "# %load P_7_2_1.py\n"
   ]
  },
  {
   "cell_type": "markdown",
   "metadata": {},
   "source": [
    "**P.2** Calculer la différence des flux intégrés calculés par chacune des deux approches. \n",
    "\n",
    "*Remarque* La différence de flux obtenue par\n",
    "la méthode de conductivité variable est beaucoup plus stable par rapport à la\n",
    "variation du rayon que la méthode du\n",
    "changement\n",
    "de géométrie, qui demande des remaillages et augmente le conditionnement de la matrice. "
   ]
  },
  {
   "cell_type": "code",
   "execution_count": 29,
   "metadata": {},
   "outputs": [],
   "source": [
    "# %load P_7_2_2.py\n"
   ]
  },
  {
   "cell_type": "markdown",
   "metadata": {},
   "source": [
    "**P.3** Créer un autre maillage troué avec un rayon de trou légèrement plus grand et interpoler les solutions u5 et u6 sur ce domaine. Tracer la différence. Conclure."
   ]
  },
  {
   "cell_type": "code",
   "execution_count": 30,
   "metadata": {},
   "outputs": [],
   "source": [
    "# %load P_7_2_3.py\n"
   ]
  },
  {
   "cell_type": "markdown",
   "metadata": {},
   "source": [
    "**Q.1** Pourquoi met-on la conductivité à $10^{-8}$ dans le trou ? Essayer avec $0$."
   ]
  },
  {
   "cell_type": "markdown",
   "metadata": {},
   "source": [
    "**Solution**"
   ]
  },
  {
   "cell_type": "markdown",
   "metadata": {},
   "source": [
    "# Simulation du problème stationnaire en domaine troué aléatoirement"
   ]
  },
  {
   "cell_type": "markdown",
   "metadata": {},
   "source": [
    "On veut maintenant simuler le problème dans un domaine dont le nombre de trous, le rayon des trous et les coordonnées de leur centre suivent respectivement une loi de Poisson de paramètre 5, une loi exponentielle de paramètre 5 et une loi normale de moyenne le centre du domaine et de variance 0.1."
   ]
  },
  {
   "cell_type": "code",
   "execution_count": 31,
   "metadata": {},
   "outputs": [],
   "source": [
    "param_poisson = 5\n",
    "scale_exp = 1/5\n",
    "var_c = 0.1\n",
    "nx8 = 100\n",
    "ny8 = 100\n",
    "ordre = 2"
   ]
  },
  {
   "cell_type": "markdown",
   "metadata": {},
   "source": [
    "**P.1** Tirer le nombre de trous, leur rayon et les coordonnées de leur centre.\n",
    "\n",
    "Mots-clés numpy : *poisson*, *exponential*, *normal*"
   ]
  },
  {
   "cell_type": "code",
   "execution_count": 32,
   "metadata": {},
   "outputs": [],
   "source": [
    "# %load P_8_1.py\n"
   ]
  },
  {
   "cell_type": "markdown",
   "metadata": {},
   "source": [
    "**P.2** Définir la conductivité adaptée et la tracer."
   ]
  },
  {
   "cell_type": "code",
   "execution_count": 33,
   "metadata": {},
   "outputs": [],
   "source": [
    "# %load P_8_2.py\n",
    "\n"
   ]
  },
  {
   "cell_type": "markdown",
   "metadata": {},
   "source": [
    "**P.3** Résoudre le problème."
   ]
  },
  {
   "cell_type": "code",
   "execution_count": 34,
   "metadata": {},
   "outputs": [],
   "source": [
    "# %load P_8_3.py\n",
    "\n"
   ]
  },
  {
   "cell_type": "markdown",
   "metadata": {},
   "source": [
    "**P.4** Peut-on encore parler d'invisibilité thermique ?"
   ]
  },
  {
   "cell_type": "code",
   "execution_count": 35,
   "metadata": {},
   "outputs": [],
   "source": [
    "# %load P_8_4.py\n",
    "\n"
   ]
  },
  {
   "cell_type": "markdown",
   "metadata": {},
   "source": [
    "# Conclusion"
   ]
  },
  {
   "cell_type": "markdown",
   "metadata": {},
   "source": [
    "A vous d'écrire vos propres conclusions..."
   ]
  },
  {
   "cell_type": "markdown",
   "metadata": {},
   "source": [
    "# Bibliographie"
   ]
  },
  {
   "cell_type": "markdown",
   "metadata": {},
   "source": [
    "## FEniCS\n",
    "\n",
    "Documentation : https://fenicsproject.org/documentation/\n",
    "\n",
    "Getting started : http://www-users.math.umn.edu/~arnold/8445/fenics-getting-started.pdf\n",
    "\n",
    "UFL : https://fenics.readthedocs.io/projects/ufl/en/latest/manual/form_language.html\n",
    "\n"
   ]
  },
  {
   "cell_type": "markdown",
   "metadata": {},
   "source": [
    "## Markdown\n",
    "\n",
    "https://github.com/adam-p/markdown-here/wiki/Markdown-Cheatsheet\n",
    "\n"
   ]
  },
  {
   "cell_type": "code",
   "execution_count": null,
   "metadata": {},
   "outputs": [],
   "source": []
  },
  {
   "cell_type": "code",
   "execution_count": null,
   "metadata": {},
   "outputs": [],
   "source": []
  }
 ],
 "metadata": {
  "kernelspec": {
   "display_name": "Python 3",
   "language": "python",
   "name": "python3"
  },
  "language_info": {
   "codemirror_mode": {
    "name": "ipython",
    "version": 3
   },
   "file_extension": ".py",
   "mimetype": "text/x-python",
   "name": "python",
   "nbconvert_exporter": "python",
   "pygments_lexer": "ipython3",
   "version": "3.7.3"
  },
  "toc": {
   "base_numbering": 1,
   "nav_menu": {},
   "number_sections": true,
   "sideBar": false,
   "skip_h1_title": false,
   "title_cell": "Invisibilité thermique",
   "title_sidebar": "Invisibilité thermique",
   "toc_cell": true,
   "toc_position": {
    "height": "214px",
    "left": "42px",
    "top": "110px",
    "width": "165px"
   },
   "toc_section_display": true,
   "toc_window_display": true
  }
 },
 "nbformat": 4,
 "nbformat_minor": 2
}
